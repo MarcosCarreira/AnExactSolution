{
 "cells": [
  {
   "cell_type": "markdown",
   "metadata": {},
   "source": [
    "# Simulation"
   ]
  },
  {
   "cell_type": "markdown",
   "metadata": {},
   "source": [
    "## Imports"
   ]
  },
  {
   "cell_type": "code",
   "execution_count": 1,
   "metadata": {},
   "outputs": [],
   "source": [
    "import numpy as np\n",
    "import pandas as pd\n",
    "import matplotlib.pyplot as plt"
   ]
  },
  {
   "cell_type": "markdown",
   "metadata": {},
   "source": [
    "## Generate random uniform numbers"
   ]
  },
  {
   "cell_type": "code",
   "execution_count": 11,
   "metadata": {},
   "outputs": [],
   "source": [
    "n = 1000000"
   ]
  },
  {
   "cell_type": "code",
   "execution_count": 3,
   "metadata": {},
   "outputs": [],
   "source": [
    "runs = 100000"
   ]
  },
  {
   "cell_type": "code",
   "execution_count": 55,
   "metadata": {},
   "outputs": [],
   "source": [
    "runs3 = 10000000"
   ]
  },
  {
   "cell_type": "code",
   "execution_count": 4,
   "metadata": {},
   "outputs": [],
   "source": [
    "from numpy.random import default_rng\n",
    "rng = default_rng()"
   ]
  },
  {
   "cell_type": "markdown",
   "metadata": {},
   "source": [
    "## Generate GM indifference numbers"
   ]
  },
  {
   "cell_type": "code",
   "execution_count": 5,
   "metadata": {},
   "outputs": [],
   "source": [
    "from sympy.solvers import solve\n",
    "from sympy import Symbol, binomial, summation, N"
   ]
  },
  {
   "cell_type": "code",
   "execution_count": 6,
   "metadata": {},
   "outputs": [],
   "source": [
    "x = Symbol('x', positive=True)\n",
    "j = Symbol('j')"
   ]
  },
  {
   "cell_type": "code",
   "execution_count": 7,
   "metadata": {},
   "outputs": [],
   "source": [
    "def eqin(i):\n",
    "    return summation((binomial(i, j) * (x ** (i - j)) * ((1 - x) ** j)) / j, (j, 1, i))"
   ]
  },
  {
   "cell_type": "code",
   "execution_count": 8,
   "metadata": {},
   "outputs": [],
   "source": [
    "def solvi(i):\n",
    "    sol = solve([x**(i - 1) -  eqin(i - 1), x < 1], x)\n",
    "    return N(sol.rhs)"
   ]
  },
  {
   "cell_type": "code",
   "execution_count": 9,
   "metadata": {},
   "outputs": [
    {
     "name": "stdout",
     "output_type": "stream",
     "text": [
      "CPU times: user 108 ms, sys: 6.24 ms, total: 115 ms\n",
      "Wall time: 121 ms\n"
     ]
    }
   ],
   "source": [
    "%%time\n",
    "\n",
    "gmd3 = pd.DataFrame([solvi(i) for i in range(2, 3 + 1)], columns=['ki'], index=range(2, 3 + 1))"
   ]
  },
  {
   "cell_type": "code",
   "execution_count": 12,
   "metadata": {},
   "outputs": [],
   "source": [
    "gmd3.index.name = 'i'\n",
    "gmd3.loc[1] = 0.\n",
    "gmd3.sort_index(inplace=True)"
   ]
  },
  {
   "cell_type": "code",
   "execution_count": 13,
   "metadata": {},
   "outputs": [
    {
     "data": {
      "text/html": [
       "<div>\n",
       "<style scoped>\n",
       "    .dataframe tbody tr th:only-of-type {\n",
       "        vertical-align: middle;\n",
       "    }\n",
       "\n",
       "    .dataframe tbody tr th {\n",
       "        vertical-align: top;\n",
       "    }\n",
       "\n",
       "    .dataframe thead th {\n",
       "        text-align: right;\n",
       "    }\n",
       "</style>\n",
       "<table border=\"1\" class=\"dataframe\">\n",
       "  <thead>\n",
       "    <tr style=\"text-align: right;\">\n",
       "      <th></th>\n",
       "      <th>ki</th>\n",
       "    </tr>\n",
       "    <tr>\n",
       "      <th>i</th>\n",
       "      <th></th>\n",
       "    </tr>\n",
       "  </thead>\n",
       "  <tbody>\n",
       "    <tr>\n",
       "      <th>1</th>\n",
       "      <td>0.000000</td>\n",
       "    </tr>\n",
       "    <tr>\n",
       "      <th>2</th>\n",
       "      <td>0.500000000000000</td>\n",
       "    </tr>\n",
       "    <tr>\n",
       "      <th>3</th>\n",
       "      <td>0.689897948556636</td>\n",
       "    </tr>\n",
       "  </tbody>\n",
       "</table>\n",
       "</div>"
      ],
      "text/plain": [
       "                  ki\n",
       "i                   \n",
       "1           0.000000\n",
       "2  0.500000000000000\n",
       "3  0.689897948556636"
      ]
     },
     "execution_count": 13,
     "metadata": {},
     "output_type": "execute_result"
    }
   ],
   "source": [
    "gmd3"
   ]
  },
  {
   "cell_type": "code",
   "execution_count": 14,
   "metadata": {},
   "outputs": [],
   "source": [
    "ksgm3 = np.flip(gmd3.values.T[0])"
   ]
  },
  {
   "cell_type": "code",
   "execution_count": 15,
   "metadata": {},
   "outputs": [
    {
     "data": {
      "text/plain": [
       "array([0.689897948556636, 0.500000000000000, 0.0], dtype=object)"
      ]
     },
     "execution_count": 15,
     "metadata": {},
     "output_type": "execute_result"
    }
   ],
   "source": [
    "ksgm3"
   ]
  },
  {
   "cell_type": "code",
   "execution_count": 9,
   "metadata": {},
   "outputs": [
    {
     "name": "stdout",
     "output_type": "stream",
     "text": [
      "CPU times: user 2min 17s, sys: 167 ms, total: 2min 17s\n",
      "Wall time: 2min 18s\n"
     ]
    }
   ],
   "source": [
    "%%time\n",
    "\n",
    "gmd100 = pd.DataFrame([solvi(i) for i in range(2, 100 + 1)], columns=['ki'], index=range(2, 100 + 1))"
   ]
  },
  {
   "cell_type": "code",
   "execution_count": 10,
   "metadata": {},
   "outputs": [],
   "source": [
    "gmd100.index.name = 'i'\n",
    "gmd100.loc[1] = 0.\n",
    "gmd100.sort_index(inplace=True)"
   ]
  },
  {
   "cell_type": "code",
   "execution_count": 11,
   "metadata": {},
   "outputs": [
    {
     "data": {
      "text/html": [
       "<div>\n",
       "<style scoped>\n",
       "    .dataframe tbody tr th:only-of-type {\n",
       "        vertical-align: middle;\n",
       "    }\n",
       "\n",
       "    .dataframe tbody tr th {\n",
       "        vertical-align: top;\n",
       "    }\n",
       "\n",
       "    .dataframe thead th {\n",
       "        text-align: right;\n",
       "    }\n",
       "</style>\n",
       "<table border=\"1\" class=\"dataframe\">\n",
       "  <thead>\n",
       "    <tr style=\"text-align: right;\">\n",
       "      <th></th>\n",
       "      <th>ki</th>\n",
       "    </tr>\n",
       "    <tr>\n",
       "      <th>i</th>\n",
       "      <th></th>\n",
       "    </tr>\n",
       "  </thead>\n",
       "  <tbody>\n",
       "    <tr>\n",
       "      <th>1</th>\n",
       "      <td>0.000000</td>\n",
       "    </tr>\n",
       "    <tr>\n",
       "      <th>2</th>\n",
       "      <td>0.500000000000000</td>\n",
       "    </tr>\n",
       "    <tr>\n",
       "      <th>3</th>\n",
       "      <td>0.689897948556636</td>\n",
       "    </tr>\n",
       "    <tr>\n",
       "      <th>4</th>\n",
       "      <td>0.775845067578928</td>\n",
       "    </tr>\n",
       "    <tr>\n",
       "      <th>5</th>\n",
       "      <td>0.824589583005756</td>\n",
       "    </tr>\n",
       "    <tr>\n",
       "      <th>...</th>\n",
       "      <td>...</td>\n",
       "    </tr>\n",
       "    <tr>\n",
       "      <th>96</th>\n",
       "      <td>0.991584247313878</td>\n",
       "    </tr>\n",
       "    <tr>\n",
       "      <th>97</th>\n",
       "      <td>0.991671387317630</td>\n",
       "    </tr>\n",
       "    <tr>\n",
       "      <th>98</th>\n",
       "      <td>0.991756741258583</td>\n",
       "    </tr>\n",
       "    <tr>\n",
       "      <th>99</th>\n",
       "      <td>0.991840363491467</td>\n",
       "    </tr>\n",
       "    <tr>\n",
       "      <th>100</th>\n",
       "      <td>0.991922306187620</td>\n",
       "    </tr>\n",
       "  </tbody>\n",
       "</table>\n",
       "<p>100 rows × 1 columns</p>\n",
       "</div>"
      ],
      "text/plain": [
       "                    ki\n",
       "i                     \n",
       "1             0.000000\n",
       "2    0.500000000000000\n",
       "3    0.689897948556636\n",
       "4    0.775845067578928\n",
       "5    0.824589583005756\n",
       "..                 ...\n",
       "96   0.991584247313878\n",
       "97   0.991671387317630\n",
       "98   0.991756741258583\n",
       "99   0.991840363491467\n",
       "100  0.991922306187620\n",
       "\n",
       "[100 rows x 1 columns]"
      ]
     },
     "execution_count": 11,
     "metadata": {},
     "output_type": "execute_result"
    }
   ],
   "source": [
    "gmd100"
   ]
  },
  {
   "cell_type": "code",
   "execution_count": 12,
   "metadata": {},
   "outputs": [],
   "source": [
    "def solv2ndordi(i):\n",
    "    return 1 / (1 + 0.80435226286 / (i - 1) + 0.183199 / (i - 1) ** 2)"
   ]
  },
  {
   "cell_type": "code",
   "execution_count": 13,
   "metadata": {},
   "outputs": [
    {
     "name": "stdout",
     "output_type": "stream",
     "text": [
      "CPU times: user 535 ms, sys: 22.6 ms, total: 558 ms\n",
      "Wall time: 557 ms\n"
     ]
    }
   ],
   "source": [
    "%%time\n",
    "\n",
    "gmdn = pd.DataFrame([solv2ndordi(i) for i in range(2, n + 1)], columns=['ki'], index=range(2, n + 1))"
   ]
  },
  {
   "cell_type": "code",
   "execution_count": 14,
   "metadata": {},
   "outputs": [],
   "source": [
    "gmdn.index.name = 'i'\n",
    "gmdn.loc[1] = 0.\n",
    "gmdn.sort_index(inplace=True)"
   ]
  },
  {
   "cell_type": "code",
   "execution_count": 15,
   "metadata": {},
   "outputs": [
    {
     "data": {
      "text/html": [
       "<div>\n",
       "<style scoped>\n",
       "    .dataframe tbody tr th:only-of-type {\n",
       "        vertical-align: middle;\n",
       "    }\n",
       "\n",
       "    .dataframe tbody tr th {\n",
       "        vertical-align: top;\n",
       "    }\n",
       "\n",
       "    .dataframe thead th {\n",
       "        text-align: right;\n",
       "    }\n",
       "</style>\n",
       "<table border=\"1\" class=\"dataframe\">\n",
       "  <thead>\n",
       "    <tr style=\"text-align: right;\">\n",
       "      <th></th>\n",
       "      <th>ki</th>\n",
       "    </tr>\n",
       "    <tr>\n",
       "      <th>i</th>\n",
       "      <th></th>\n",
       "    </tr>\n",
       "  </thead>\n",
       "  <tbody>\n",
       "    <tr>\n",
       "      <th>1</th>\n",
       "      <td>0.000000</td>\n",
       "    </tr>\n",
       "    <tr>\n",
       "      <th>2</th>\n",
       "      <td>0.503132</td>\n",
       "    </tr>\n",
       "    <tr>\n",
       "      <th>3</th>\n",
       "      <td>0.690619</td>\n",
       "    </tr>\n",
       "    <tr>\n",
       "      <th>4</th>\n",
       "      <td>0.776113</td>\n",
       "    </tr>\n",
       "    <tr>\n",
       "      <th>5</th>\n",
       "      <td>0.824716</td>\n",
       "    </tr>\n",
       "    <tr>\n",
       "      <th>...</th>\n",
       "      <td>...</td>\n",
       "    </tr>\n",
       "    <tr>\n",
       "      <th>96</th>\n",
       "      <td>0.991584</td>\n",
       "    </tr>\n",
       "    <tr>\n",
       "      <th>97</th>\n",
       "      <td>0.991671</td>\n",
       "    </tr>\n",
       "    <tr>\n",
       "      <th>98</th>\n",
       "      <td>0.991757</td>\n",
       "    </tr>\n",
       "    <tr>\n",
       "      <th>99</th>\n",
       "      <td>0.991840</td>\n",
       "    </tr>\n",
       "    <tr>\n",
       "      <th>100</th>\n",
       "      <td>0.991922</td>\n",
       "    </tr>\n",
       "  </tbody>\n",
       "</table>\n",
       "<p>100 rows × 1 columns</p>\n",
       "</div>"
      ],
      "text/plain": [
       "           ki\n",
       "i            \n",
       "1    0.000000\n",
       "2    0.503132\n",
       "3    0.690619\n",
       "4    0.776113\n",
       "5    0.824716\n",
       "..        ...\n",
       "96   0.991584\n",
       "97   0.991671\n",
       "98   0.991757\n",
       "99   0.991840\n",
       "100  0.991922\n",
       "\n",
       "[100 rows x 1 columns]"
      ]
     },
     "execution_count": 15,
     "metadata": {},
     "output_type": "execute_result"
    }
   ],
   "source": [
    "gmdn.loc[:100]"
   ]
  },
  {
   "cell_type": "code",
   "execution_count": 28,
   "metadata": {},
   "outputs": [],
   "source": [
    "ksgm = np.flip(gmdn.values.T[0])"
   ]
  },
  {
   "cell_type": "markdown",
   "metadata": {},
   "source": [
    "## Generate MC cutoff numbers"
   ]
  },
  {
   "cell_type": "code",
   "execution_count": 22,
   "metadata": {},
   "outputs": [],
   "source": [
    "ksmc = np.array([((1 - 1 / n) + np.log((n - r) / n) / n) for r in range(1, n)] + [0])"
   ]
  },
  {
   "cell_type": "code",
   "execution_count": 16,
   "metadata": {},
   "outputs": [],
   "source": [
    "ksmc3 = np.array([0.672608, 0.545532, 0])"
   ]
  },
  {
   "cell_type": "markdown",
   "metadata": {},
   "source": [
    "## Run both choices"
   ]
  },
  {
   "cell_type": "code",
   "execution_count": 57,
   "metadata": {},
   "outputs": [],
   "source": [
    "def compare(xsr, ks1, ks2, ctr):\n",
    "    rmax = np.argmax(xsr)\n",
    "    diff1 = np.sign(xsr - ks1)\n",
    "    rpick1 = np.argmax(diff1)\n",
    "    tp1, fp1, fn1 = [0, 0, 0]\n",
    "    diff2 = np.sign(xsr - ks2)\n",
    "    rpick2 = np.argmax(diff2)\n",
    "    tp2, fp2, fn2 = [0, 0, 0]\n",
    "    if rpick1 == rmax:\n",
    "        tp1 = 1   \n",
    "    else:\n",
    "        if rpick1 < rmax:\n",
    "            fp1 = 1\n",
    "        else:\n",
    "            fn1 = 1\n",
    "    if rpick2 == rmax:\n",
    "        tp2 = 1   \n",
    "    else:\n",
    "        if rpick2 < rmax:\n",
    "            fp2 = 1\n",
    "        else:\n",
    "            fn2 = 1\n",
    "    if ctr % 10000 == 0:\n",
    "        print(ctr)\n",
    "    return [rmax + 1, rpick1 + 1, rpick2 + 1, tp1, fp1, fn1, tp2, fp2, fn2]"
   ]
  },
  {
   "cell_type": "code",
   "execution_count": 83,
   "metadata": {},
   "outputs": [],
   "source": [
    "def compare3(xsr, ks1, ks2, ctr):\n",
    "    rmax = np.argmax(xsr)\n",
    "    xmax = np.max(xsr)\n",
    "    diff1 = np.sign(xsr - ks1)\n",
    "    rpick1 = np.argmax(diff1)\n",
    "    tp1, fp1, fn1 = [0, 0, 0]\n",
    "    diff2 = np.sign(xsr - ks2)\n",
    "    rpick2 = np.argmax(diff2)\n",
    "    tp2, fp2, fn2 = [0, 0, 0]\n",
    "    if rpick1 == rmax:\n",
    "        tp1 = 1   \n",
    "    else:\n",
    "        if rpick1 < rmax:\n",
    "            fp1 = 1\n",
    "        else:\n",
    "            fn1 = 1\n",
    "    if rpick2 == rmax:\n",
    "        tp2 = 1   \n",
    "    else:\n",
    "        if rpick2 < rmax:\n",
    "            fp2 = 1\n",
    "        else:\n",
    "            fn2 = 1\n",
    "    bucket1 = np.argmax(np.sign(xmax - ks1)) + 1\n",
    "    bucket2 = np.argmax(np.sign(xmax - ks2)) + 1\n",
    "    if ctr % 100000 == 0:\n",
    "        print(ctr)\n",
    "    return [rmax + 1, rpick1 + 1, rpick2 + 1, tp1, fp1, fn1, tp2, fp2, fn2,\n",
    "           bucket1, bucket2]"
   ]
  },
  {
   "cell_type": "code",
   "execution_count": 84,
   "metadata": {},
   "outputs": [
    {
     "name": "stdout",
     "output_type": "stream",
     "text": [
      "0\n",
      "100000\n",
      "200000\n",
      "300000\n",
      "400000\n",
      "500000\n",
      "600000\n",
      "700000\n",
      "800000\n",
      "900000\n",
      "1000000\n",
      "1100000\n",
      "1200000\n",
      "1300000\n",
      "1400000\n",
      "1500000\n",
      "1600000\n",
      "1700000\n",
      "1800000\n",
      "1900000\n",
      "2000000\n",
      "2100000\n",
      "2200000\n",
      "2300000\n",
      "2400000\n",
      "2500000\n",
      "2600000\n",
      "2700000\n",
      "2800000\n",
      "2900000\n",
      "3000000\n",
      "3100000\n",
      "3200000\n",
      "3300000\n",
      "3400000\n",
      "3500000\n",
      "3600000\n",
      "3700000\n",
      "3800000\n",
      "3900000\n",
      "4000000\n",
      "4100000\n",
      "4200000\n",
      "4300000\n",
      "4400000\n",
      "4500000\n",
      "4600000\n",
      "4700000\n",
      "4800000\n",
      "4900000\n",
      "5000000\n",
      "5100000\n",
      "5200000\n",
      "5300000\n",
      "5400000\n",
      "5500000\n",
      "5600000\n",
      "5700000\n",
      "5800000\n",
      "5900000\n",
      "6000000\n",
      "6100000\n",
      "6200000\n",
      "6300000\n",
      "6400000\n",
      "6500000\n",
      "6600000\n",
      "6700000\n",
      "6800000\n",
      "6900000\n",
      "7000000\n",
      "7100000\n",
      "7200000\n",
      "7300000\n",
      "7400000\n",
      "7500000\n",
      "7600000\n",
      "7700000\n",
      "7800000\n",
      "7900000\n",
      "8000000\n",
      "8100000\n",
      "8200000\n",
      "8300000\n",
      "8400000\n",
      "8500000\n",
      "8600000\n",
      "8700000\n",
      "8800000\n",
      "8900000\n",
      "9000000\n",
      "9100000\n",
      "9200000\n",
      "9300000\n",
      "9400000\n",
      "9500000\n",
      "9600000\n",
      "9700000\n",
      "9800000\n",
      "9900000\n",
      "CPU times: user 53min 14s, sys: 34.2 s, total: 53min 48s\n",
      "Wall time: 53min 38s\n"
     ]
    }
   ],
   "source": [
    "%%time\n",
    "\n",
    "results3 = pd.DataFrame([compare3(rng.random(size=3), ksgm3, ksmc3, run) for run in range(runs3)],\n",
    "                      columns=['R(Max)', 'R(Choice)-GM', 'R(Choice)-MC',\n",
    "                               'TP-GM', 'FP-GM', 'FN-GM', 'TP-MC', 'FP-MC', 'FN-MC',\n",
    "                               'Bucket- GM', 'Bucket- MC'])"
   ]
  },
  {
   "cell_type": "code",
   "execution_count": 85,
   "metadata": {},
   "outputs": [
    {
     "data": {
      "text/plain": [
       "R(Max)          1.999875\n",
       "R(Choice)-GM    2.035082\n",
       "R(Choice)-MC    2.039666\n",
       "TP-GM           0.677475\n",
       "FP-GM           0.171242\n",
       "FN-GM           0.151283\n",
       "TP-MC           0.679721\n",
       "FP-MC           0.164581\n",
       "FN-MC           0.155698\n",
       "Bucket- GM      1.453576\n",
       "Bucket- MC      1.466914\n",
       "dtype: float64"
      ]
     },
     "execution_count": 85,
     "metadata": {},
     "output_type": "execute_result"
    }
   ],
   "source": [
    "results3.mean()"
   ]
  },
  {
   "cell_type": "code",
   "execution_count": 86,
   "metadata": {},
   "outputs": [
    {
     "data": {
      "text/plain": [
       "1    0.333491\n",
       "2    0.333143\n",
       "3    0.333366\n",
       "Name: R(Max), dtype: float64"
      ]
     },
     "execution_count": 86,
     "metadata": {},
     "output_type": "execute_result"
    }
   ],
   "source": [
    "results3['R(Max)'].value_counts(normalize=True, sort=False)"
   ]
  },
  {
   "cell_type": "code",
   "execution_count": 87,
   "metadata": {},
   "outputs": [
    {
     "data": {
      "text/plain": [
       "1    0.310029\n",
       "2    0.344860\n",
       "3    0.345111\n",
       "Name: R(Choice)-GM, dtype: float64"
      ]
     },
     "execution_count": 87,
     "metadata": {},
     "output_type": "execute_result"
    }
   ],
   "source": [
    "results3['R(Choice)-GM'].value_counts(normalize=True, sort=False)"
   ]
  },
  {
   "cell_type": "code",
   "execution_count": 88,
   "metadata": {},
   "outputs": [
    {
     "data": {
      "text/plain": [
       "1    0.327375\n",
       "2    0.305584\n",
       "3    0.367041\n",
       "Name: R(Choice)-MC, dtype: float64"
      ]
     },
     "execution_count": 88,
     "metadata": {},
     "output_type": "execute_result"
    }
   ],
   "source": [
    "results3['R(Choice)-MC'].value_counts(normalize=True, sort=False)"
   ]
  },
  {
   "cell_type": "code",
   "execution_count": 89,
   "metadata": {},
   "outputs": [],
   "source": [
    "def pwinsGM(k1, k2):\n",
    "    p1 = 1 / 3 - (k1 ** 3) / 3\n",
    "    p2 = k1 / 2 - (k1 ** 3) / 6 - (k2 ** 3) / 3\n",
    "    p3 = (k1 ** 2) / 2 - (k1 ** 3) / 3 + (k2 ** 2) / 2 - (k2 ** 3) / 3\n",
    "    return [p1, p2, p3]"
   ]
  },
  {
   "cell_type": "code",
   "execution_count": 90,
   "metadata": {},
   "outputs": [],
   "source": [
    "def pwinsMC(k1, k2):\n",
    "    p1 = 1 / 3 - (k1 ** 3) / 3\n",
    "    p2 = k1 / 2 - (k1 ** 3) / 6 - (k2 ** 3) / 3\n",
    "    p3 = k1 * k2 - ((k1 ** 2) * k2) / 2 - (k2 ** 3) / 6\n",
    "    return [p1, p2, p3]"
   ]
  },
  {
   "cell_type": "code",
   "execution_count": 91,
   "metadata": {},
   "outputs": [
    {
     "data": {
      "text/plain": [
       "[0.223878912839870, 0.248555097364920, 0.211858502551198]"
      ]
     },
     "execution_count": 91,
     "metadata": {},
     "output_type": "execute_result"
    }
   ],
   "source": [
    "pwinsGM(ksgm3[0], ksgm3[1])"
   ]
  },
  {
   "cell_type": "code",
   "execution_count": 92,
   "metadata": {},
   "outputs": [
    {
     "data": {
      "text/plain": [
       "[0.223878912839870, 0.248555097364920, 0.205125846089321]"
      ]
     },
     "execution_count": 92,
     "metadata": {},
     "output_type": "execute_result"
    }
   ],
   "source": [
    "pwinsMC(ksgm3[0], ksgm3[1])"
   ]
  },
  {
   "cell_type": "code",
   "execution_count": 93,
   "metadata": {},
   "outputs": [
    {
     "data": {
      "text/plain": [
       "[0.2239437, 0.2484077, 0.2051239]"
      ]
     },
     "execution_count": 93,
     "metadata": {},
     "output_type": "execute_result"
    }
   ],
   "source": [
    "[\n",
    "(results3['TP-GM'] * results3['R(Max)'] == 1).mean(),\n",
    "(results3['TP-GM'] * results3['R(Max)'] == 2).mean(),\n",
    "(results3['TP-GM'] * results3['R(Max)'] == 3).mean()]"
   ]
  },
  {
   "cell_type": "code",
   "execution_count": 94,
   "metadata": {},
   "outputs": [
    {
     "data": {
      "text/latex": [
       "$\\displaystyle 0.684292512755988$"
      ],
      "text/plain": [
       "0.684292512755988"
      ]
     },
     "execution_count": 94,
     "metadata": {},
     "output_type": "execute_result"
    }
   ],
   "source": [
    "np.sum(pwinsGM(ksgm3[0], ksgm3[1]))"
   ]
  },
  {
   "cell_type": "code",
   "execution_count": 95,
   "metadata": {},
   "outputs": [
    {
     "data": {
      "text/latex": [
       "$\\displaystyle 0.677559856294111$"
      ],
      "text/plain": [
       "0.677559856294111"
      ]
     },
     "execution_count": 95,
     "metadata": {},
     "output_type": "execute_result"
    }
   ],
   "source": [
    "np.sum(pwinsMC(ksgm3[0], ksgm3[1]))"
   ]
  },
  {
   "cell_type": "code",
   "execution_count": 96,
   "metadata": {},
   "outputs": [
    {
     "data": {
      "text/plain": [
       "0.6774753"
      ]
     },
     "execution_count": 96,
     "metadata": {},
     "output_type": "execute_result"
    }
   ],
   "source": [
    "results3['TP-GM'].mean()"
   ]
  },
  {
   "cell_type": "code",
   "execution_count": 104,
   "metadata": {},
   "outputs": [],
   "source": [
    "def pwin3bucketsGM(k1, k2):\n",
    "    b3 = (k2 ** 3) / 3\n",
    "    b2 = (k1 ** 3) / 6 + (k1 * (k2 ** 2)) / 2 - (k2 ** 3) * 2 / 3\n",
    "    b1 = (k1 ** 2) / 2 - (k1 ** 3) / 2 + (k2 ** 2) / 2 - (k1 * (k2 ** 2)) / 2\n",
    "    return [b1, b2, b3]"
   ]
  },
  {
   "cell_type": "code",
   "execution_count": 105,
   "metadata": {},
   "outputs": [
    {
     "data": {
      "text/plain": [
       "[0.112560715401553, 0.0576311204829776, 0.0416666666666667]"
      ]
     },
     "execution_count": 105,
     "metadata": {},
     "output_type": "execute_result"
    }
   ],
   "source": [
    "pwin3bucketsGM(ksgm3[0], ksgm3[1])"
   ]
  },
  {
   "cell_type": "code",
   "execution_count": 106,
   "metadata": {},
   "outputs": [
    {
     "data": {
      "text/latex": [
       "$\\displaystyle 0.211858502551198$"
      ],
      "text/plain": [
       "0.211858502551198"
      ]
     },
     "execution_count": 106,
     "metadata": {},
     "output_type": "execute_result"
    }
   ],
   "source": [
    "np.sum(pwin3bucketsGM(ksgm3[0], ksgm3[1]))"
   ]
  },
  {
   "cell_type": "code",
   "execution_count": 103,
   "metadata": {},
   "outputs": [
    {
     "data": {
      "text/plain": [
       "[0.1068559, 0.0566401, 0.0416279]"
      ]
     },
     "execution_count": 103,
     "metadata": {},
     "output_type": "execute_result"
    }
   ],
   "source": [
    "[\n",
    "(results3['TP-GM'] * (results3['R(Max)'] == 3) * (results3['Bucket- GM'] == 1)).mean(),\n",
    "(results3['TP-GM'] * (results3['R(Max)'] == 3) * (results3['Bucket- GM'] == 2)).mean(),\n",
    "(results3['TP-GM'] * (results3['R(Max)'] == 3) * (results3['Bucket- GM'] == 3)).mean()]"
   ]
  },
  {
   "cell_type": "code",
   "execution_count": 113,
   "metadata": {},
   "outputs": [],
   "source": [
    "def round1MC(k1, k2):\n",
    "    tp = 1 / 3 - (k1 ** 3) / 3\n",
    "    fp = 2 / 3 - k1 + (k1 ** 3) / 3\n",
    "    fn = (k1 ** 3) / 3\n",
    "    return [tp, fp, fn]"
   ]
  },
  {
   "cell_type": "code",
   "execution_count": 122,
   "metadata": {},
   "outputs": [],
   "source": [
    "def round2MC(k1, k2):\n",
    "    tp = k1 / 2 - (k1 ** 3) / 6 - (k2 ** 3) / 3\n",
    "    fp = k1 / 2 - (k1 ** 3) / 6 - (k1 * k2) + ((k1 ** 2) * k2) / 2 + (k2 ** 3) / 6\n",
    "    fn = (k2 ** 3) / 3\n",
    "    return [tp, fp, fn]"
   ]
  },
  {
   "cell_type": "code",
   "execution_count": 114,
   "metadata": {},
   "outputs": [
    {
     "data": {
      "text/plain": [
       "[0.223878912839870, 0.0862231386034939, 0.109454420493463]"
      ]
     },
     "execution_count": 114,
     "metadata": {},
     "output_type": "execute_result"
    }
   ],
   "source": [
    "round1MC(ksgm3[0], ksgm3[1])"
   ]
  },
  {
   "cell_type": "code",
   "execution_count": 120,
   "metadata": {},
   "outputs": [
    {
     "data": {
      "text/plain": [
       "[0.2239437, 0.0860853, 0.1095473]"
      ]
     },
     "execution_count": 120,
     "metadata": {},
     "output_type": "execute_result"
    }
   ],
   "source": [
    "[\n",
    "(results3['TP-GM'] * results3['R(Choice)-GM'] == 1).mean(),\n",
    "(results3['FP-GM'] * results3['R(Choice)-GM'] == 1).mean(),\n",
    "(results3['FN-GM'] * results3['R(Max)'] == 1).mean()]"
   ]
  },
  {
   "cell_type": "code",
   "execution_count": 123,
   "metadata": {},
   "outputs": [
    {
     "data": {
      "text/plain": [
       "[0.248555097364920, 0.0850959179422654, 0.0416666666666667]"
      ]
     },
     "execution_count": 123,
     "metadata": {},
     "output_type": "execute_result"
    }
   ],
   "source": [
    "round2MC(ksgm3[0], ksgm3[1])"
   ]
  },
  {
   "cell_type": "code",
   "execution_count": 117,
   "metadata": {},
   "outputs": [
    {
     "data": {
      "text/plain": [
       "[0.2484077, 0.0851567, 0.0417354]"
      ]
     },
     "execution_count": 117,
     "metadata": {},
     "output_type": "execute_result"
    }
   ],
   "source": [
    "[\n",
    "(results3['TP-GM'] * results3['R(Choice)-GM'] == 2).mean(),\n",
    "(results3['FP-GM'] * results3['R(Choice)-GM'] == 2).mean(),\n",
    "(results3['FN-GM'] * results3['R(Max)'] == 2).mean()]"
   ]
  },
  {
   "cell_type": "code",
   "execution_count": 121,
   "metadata": {},
   "outputs": [
    {
     "data": {
      "text/plain": [
       "[0.2051239, 0.0, 0.0]"
      ]
     },
     "execution_count": 121,
     "metadata": {},
     "output_type": "execute_result"
    }
   ],
   "source": [
    "[\n",
    "(results3['TP-GM'] * results3['R(Choice)-GM'] == 3).mean(),\n",
    "(results3['FP-GM'] * results3['R(Choice)-GM'] == 3).mean(),\n",
    "(results3['FN-GM'] * results3['R(Max)'] == 3).mean()]"
   ]
  },
  {
   "cell_type": "code",
   "execution_count": null,
   "metadata": {},
   "outputs": [],
   "source": [
    "%%time\n",
    "\n",
    "results = pd.DataFrame([compare(rng.random(size=n), ksgm, ksmc, run) for run in range(runs)],\n",
    "                      columns=['R(Max)', 'R(Choice)-GM', 'R(Choice)-MC',\n",
    "                               'TP-GM', 'FP-GM', 'FN-GM', 'TP-MC', 'FP-MC', 'FN-MC'])"
   ]
  },
  {
   "cell_type": "code",
   "execution_count": 39,
   "metadata": {},
   "outputs": [
    {
     "data": {
      "text/plain": [
       "R(Max)          498436.28951\n",
       "R(Choice)-GM    553636.06085\n",
       "R(Choice)-MC    537557.75820\n",
       "TP-GM                0.53869\n",
       "FP-GM                0.26174\n",
       "FN-GM                0.19957\n",
       "TP-MC                0.56211\n",
       "FP-MC                0.25376\n",
       "FN-MC                0.18413\n",
       "dtype: float64"
      ]
     },
     "execution_count": 39,
     "metadata": {},
     "output_type": "execute_result"
    }
   ],
   "source": [
    "results.mean()"
   ]
  },
  {
   "cell_type": "code",
   "execution_count": null,
   "metadata": {},
   "outputs": [],
   "source": []
  }
 ],
 "metadata": {
  "jupytext": {
   "formats": "ipynb,py:percent"
  },
  "kernelspec": {
   "display_name": "Python 3",
   "language": "python",
   "name": "python3"
  },
  "language_info": {
   "codemirror_mode": {
    "name": "ipython",
    "version": 3
   },
   "file_extension": ".py",
   "mimetype": "text/x-python",
   "name": "python",
   "nbconvert_exporter": "python",
   "pygments_lexer": "ipython3",
   "version": "3.8.6"
  }
 },
 "nbformat": 4,
 "nbformat_minor": 4
}
